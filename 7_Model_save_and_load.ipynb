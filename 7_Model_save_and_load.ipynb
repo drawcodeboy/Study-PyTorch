{
 "cells": [
  {
   "cell_type": "markdown",
   "id": "bf667e51-fadb-490a-a97c-94ededc0ff69",
   "metadata": {},
   "source": [
    "# 모델 저장하고 불러오기"
   ]
  },
  {
   "cell_type": "code",
   "execution_count": 2,
   "id": "08e4cefb-c341-41a6-b319-17ef97e4e1a8",
   "metadata": {},
   "outputs": [],
   "source": [
    "import torch\n",
    "import torchvision.models as models\n",
    "from torchsummary import summary"
   ]
  },
  {
   "cell_type": "markdown",
   "id": "6fde5f7c-e4ee-497b-a3b2-a42939c1eb62",
   "metadata": {},
   "source": [
    "## 모델 가중치 저장하고 불러오기\n",
    "* PyTorch 모델은 학습한 매개변수를 <code>state_dict</code>라고 불리는 내부 상태 사전(internal state dictionary)에 저장\n",
    "* 이 상태 값들은 <code>torch.save</code>메소드를 사용하여 저장(persist)할 수 있음\n",
    "* <code>state_dict</code>는 모델의 각 레이어를 해당 Parameter Tensor와 매핑하는 Python Dictionary 객체이다.\n",
    "* <code>.pt</code>와 <code>.pth</code>는 본질적으로 차이가 없다."
   ]
  },
  {
   "cell_type": "code",
   "execution_count": 3,
   "id": "39f1e3e4-f5b3-4ae7-a905-df08e2ac20cb",
   "metadata": {
    "collapsed": true,
    "jupyter": {
     "outputs_hidden": true
    }
   },
   "outputs": [
    {
     "name": "stderr",
     "output_type": "stream",
     "text": [
      "Downloading: \"https://download.pytorch.org/models/vgg16-397923af.pth\" to C:\\Users\\user/.cache\\torch\\hub\\checkpoints\\vgg16-397923af.pth\n",
      "100%|███████████████████████████████████████████████████████████████████████████████| 528M/528M [01:02<00:00, 8.89MB/s]\n"
     ]
    }
   ],
   "source": [
    "model = models.vgg16(weights='IMAGENET1K_V1')\n",
    "torch.save(model.state_dict(), 'model_weights.pth')"
   ]
  },
  {
   "cell_type": "code",
   "execution_count": 4,
   "id": "3a62920e-13c5-420f-92dd-8007d4254eb2",
   "metadata": {
    "collapsed": true,
    "jupyter": {
     "outputs_hidden": true
    }
   },
   "outputs": [
    {
     "name": "stdout",
     "output_type": "stream",
     "text": [
      "features.0.weight\n",
      "features.0.bias\n",
      "features.2.weight\n",
      "features.2.bias\n",
      "features.5.weight\n",
      "features.5.bias\n",
      "features.7.weight\n",
      "features.7.bias\n",
      "features.10.weight\n",
      "features.10.bias\n",
      "features.12.weight\n",
      "features.12.bias\n",
      "features.14.weight\n",
      "features.14.bias\n",
      "features.17.weight\n",
      "features.17.bias\n",
      "features.19.weight\n",
      "features.19.bias\n",
      "features.21.weight\n",
      "features.21.bias\n",
      "features.24.weight\n",
      "features.24.bias\n",
      "features.26.weight\n",
      "features.26.bias\n",
      "features.28.weight\n",
      "features.28.bias\n",
      "classifier.0.weight\n",
      "classifier.0.bias\n",
      "classifier.3.weight\n",
      "classifier.3.bias\n",
      "classifier.6.weight\n",
      "classifier.6.bias\n"
     ]
    }
   ],
   "source": [
    "for param in model.state_dict():\n",
    "    print(param)"
   ]
  },
  {
   "cell_type": "markdown",
   "id": "acc424fb-a131-4030-b998-2c0bece5b8b7",
   "metadata": {},
   "source": [
    "* PyTorch에서는 모델의 가중치를 가져오려면, 해당 모델의 Instance(객체)를 생성해야 한다.\n",
    "* 즉, 모델의 틀은 사용자가 가지고 있어야 한다.\n",
    "* 그래서 생성한 다음에 <code>load_state_dict()</code>으로 메소드를 사용하여 매개변수들을 불러온다.\n",
    "* 아래에서 <code>model.eval()</code>을 호출하는 이유는 Dropout과 Batch Normalization을 <b>Evaluation Mode(평가 모드)</b>로 바꾸어야 한다.\n",
    "* 그렇지 않으면 일관성 없는 추론 결과가 생성된다."
   ]
  },
  {
   "cell_type": "code",
   "execution_count": 5,
   "id": "7310b6fe-1b2b-43a4-b1b5-a9fc4dd10537",
   "metadata": {
    "collapsed": true,
    "jupyter": {
     "outputs_hidden": true
    },
    "scrolled": true
   },
   "outputs": [
    {
     "data": {
      "text/plain": [
       "VGG(\n",
       "  (features): Sequential(\n",
       "    (0): Conv2d(3, 64, kernel_size=(3, 3), stride=(1, 1), padding=(1, 1))\n",
       "    (1): ReLU(inplace=True)\n",
       "    (2): Conv2d(64, 64, kernel_size=(3, 3), stride=(1, 1), padding=(1, 1))\n",
       "    (3): ReLU(inplace=True)\n",
       "    (4): MaxPool2d(kernel_size=2, stride=2, padding=0, dilation=1, ceil_mode=False)\n",
       "    (5): Conv2d(64, 128, kernel_size=(3, 3), stride=(1, 1), padding=(1, 1))\n",
       "    (6): ReLU(inplace=True)\n",
       "    (7): Conv2d(128, 128, kernel_size=(3, 3), stride=(1, 1), padding=(1, 1))\n",
       "    (8): ReLU(inplace=True)\n",
       "    (9): MaxPool2d(kernel_size=2, stride=2, padding=0, dilation=1, ceil_mode=False)\n",
       "    (10): Conv2d(128, 256, kernel_size=(3, 3), stride=(1, 1), padding=(1, 1))\n",
       "    (11): ReLU(inplace=True)\n",
       "    (12): Conv2d(256, 256, kernel_size=(3, 3), stride=(1, 1), padding=(1, 1))\n",
       "    (13): ReLU(inplace=True)\n",
       "    (14): Conv2d(256, 256, kernel_size=(3, 3), stride=(1, 1), padding=(1, 1))\n",
       "    (15): ReLU(inplace=True)\n",
       "    (16): MaxPool2d(kernel_size=2, stride=2, padding=0, dilation=1, ceil_mode=False)\n",
       "    (17): Conv2d(256, 512, kernel_size=(3, 3), stride=(1, 1), padding=(1, 1))\n",
       "    (18): ReLU(inplace=True)\n",
       "    (19): Conv2d(512, 512, kernel_size=(3, 3), stride=(1, 1), padding=(1, 1))\n",
       "    (20): ReLU(inplace=True)\n",
       "    (21): Conv2d(512, 512, kernel_size=(3, 3), stride=(1, 1), padding=(1, 1))\n",
       "    (22): ReLU(inplace=True)\n",
       "    (23): MaxPool2d(kernel_size=2, stride=2, padding=0, dilation=1, ceil_mode=False)\n",
       "    (24): Conv2d(512, 512, kernel_size=(3, 3), stride=(1, 1), padding=(1, 1))\n",
       "    (25): ReLU(inplace=True)\n",
       "    (26): Conv2d(512, 512, kernel_size=(3, 3), stride=(1, 1), padding=(1, 1))\n",
       "    (27): ReLU(inplace=True)\n",
       "    (28): Conv2d(512, 512, kernel_size=(3, 3), stride=(1, 1), padding=(1, 1))\n",
       "    (29): ReLU(inplace=True)\n",
       "    (30): MaxPool2d(kernel_size=2, stride=2, padding=0, dilation=1, ceil_mode=False)\n",
       "  )\n",
       "  (avgpool): AdaptiveAvgPool2d(output_size=(7, 7))\n",
       "  (classifier): Sequential(\n",
       "    (0): Linear(in_features=25088, out_features=4096, bias=True)\n",
       "    (1): ReLU(inplace=True)\n",
       "    (2): Dropout(p=0.5, inplace=False)\n",
       "    (3): Linear(in_features=4096, out_features=4096, bias=True)\n",
       "    (4): ReLU(inplace=True)\n",
       "    (5): Dropout(p=0.5, inplace=False)\n",
       "    (6): Linear(in_features=4096, out_features=1000, bias=True)\n",
       "  )\n",
       ")"
      ]
     },
     "execution_count": 5,
     "metadata": {},
     "output_type": "execute_result"
    }
   ],
   "source": [
    "model = models.vgg16() # weight를 지정하지 않았으므로, 학습되지 않은 모델을 생성한다.\n",
    "model.load_state_dict(torch.load('model_weights.pth'))\n",
    "model.eval()"
   ]
  },
  {
   "cell_type": "markdown",
   "id": "4e9ccad9-7c04-4969-b232-fe4a3555acb4",
   "metadata": {},
   "source": [
    "## 모델의 형태를 포함하여 저장하고 불러오기\n",
    "* 모델의 가중치를 불러올 때, 신경망의 구조를 정의하기 위해 모델 클래스를 먼저 생성해야했다.\n",
    "* 이 클래스의 구조를 모델과 함께 저장하고 싶으면, <code>model.state_dict()</code>가 아닌 <code>model</code>을 저장 함수에 전달한다."
   ]
  },
  {
   "cell_type": "code",
   "execution_count": 15,
   "id": "9c84e0b7-5a66-4860-b9ec-3395e536f75c",
   "metadata": {},
   "outputs": [],
   "source": [
    "torch.save(model, 'model.pth')\n",
    "model = torch.load('model.pth')"
   ]
  },
  {
   "cell_type": "code",
   "execution_count": 25,
   "id": "fd53e8a8-08fb-444a-af4a-dcc87ee704e9",
   "metadata": {
    "collapsed": true,
    "jupyter": {
     "outputs_hidden": true
    },
    "scrolled": true
   },
   "outputs": [
    {
     "name": "stdout",
     "output_type": "stream",
     "text": [
      "----------------------------------------------------------------\n",
      "        Layer (type)               Output Shape         Param #\n",
      "================================================================\n",
      "            Conv2d-1         [-1, 64, 224, 224]           1,792\n",
      "              ReLU-2         [-1, 64, 224, 224]               0\n",
      "            Conv2d-3         [-1, 64, 224, 224]          36,928\n",
      "              ReLU-4         [-1, 64, 224, 224]               0\n",
      "         MaxPool2d-5         [-1, 64, 112, 112]               0\n",
      "            Conv2d-6        [-1, 128, 112, 112]          73,856\n",
      "              ReLU-7        [-1, 128, 112, 112]               0\n",
      "            Conv2d-8        [-1, 128, 112, 112]         147,584\n",
      "              ReLU-9        [-1, 128, 112, 112]               0\n",
      "        MaxPool2d-10          [-1, 128, 56, 56]               0\n",
      "           Conv2d-11          [-1, 256, 56, 56]         295,168\n",
      "             ReLU-12          [-1, 256, 56, 56]               0\n",
      "           Conv2d-13          [-1, 256, 56, 56]         590,080\n",
      "             ReLU-14          [-1, 256, 56, 56]               0\n",
      "           Conv2d-15          [-1, 256, 56, 56]         590,080\n",
      "             ReLU-16          [-1, 256, 56, 56]               0\n",
      "        MaxPool2d-17          [-1, 256, 28, 28]               0\n",
      "           Conv2d-18          [-1, 512, 28, 28]       1,180,160\n",
      "             ReLU-19          [-1, 512, 28, 28]               0\n",
      "           Conv2d-20          [-1, 512, 28, 28]       2,359,808\n",
      "             ReLU-21          [-1, 512, 28, 28]               0\n",
      "           Conv2d-22          [-1, 512, 28, 28]       2,359,808\n",
      "             ReLU-23          [-1, 512, 28, 28]               0\n",
      "        MaxPool2d-24          [-1, 512, 14, 14]               0\n",
      "           Conv2d-25          [-1, 512, 14, 14]       2,359,808\n",
      "             ReLU-26          [-1, 512, 14, 14]               0\n",
      "           Conv2d-27          [-1, 512, 14, 14]       2,359,808\n",
      "             ReLU-28          [-1, 512, 14, 14]               0\n",
      "           Conv2d-29          [-1, 512, 14, 14]       2,359,808\n",
      "             ReLU-30          [-1, 512, 14, 14]               0\n",
      "        MaxPool2d-31            [-1, 512, 7, 7]               0\n",
      "AdaptiveAvgPool2d-32            [-1, 512, 7, 7]               0\n",
      "           Linear-33                 [-1, 4096]     102,764,544\n",
      "             ReLU-34                 [-1, 4096]               0\n",
      "          Dropout-35                 [-1, 4096]               0\n",
      "           Linear-36                 [-1, 4096]      16,781,312\n",
      "             ReLU-37                 [-1, 4096]               0\n",
      "          Dropout-38                 [-1, 4096]               0\n",
      "           Linear-39                 [-1, 1000]       4,097,000\n",
      "================================================================\n",
      "Total params: 138,357,544\n",
      "Trainable params: 138,357,544\n",
      "Non-trainable params: 0\n",
      "----------------------------------------------------------------\n",
      "Input size (MB): 0.57\n",
      "Forward/backward pass size (MB): 218.78\n",
      "Params size (MB): 527.79\n",
      "Estimated Total Size (MB): 747.15\n",
      "----------------------------------------------------------------\n"
     ]
    }
   ],
   "source": [
    "summary(model, input_size=(3, 224, 224))"
   ]
  },
  {
   "cell_type": "markdown",
   "id": "e3dfd971-d59d-4c05-bcd7-c1717e8ede3e",
   "metadata": {},
   "source": [
    "## Summary\n",
    "* 모델은 <code>torch.save()</code>와 <code>torch.load()</code>를 통해서 저장하거나, 불러올 수 있다.\n",
    "* 모델을 저장하거나 가중치를 저장할 수 있다.\n",
    "### 1) 확장자 .pt, .pth\n",
    "* 둘 중 하나로 관리되며 둘의 차이는 없다.\n",
    "* 가중치든 모델이든 같은 확장자를 갖는다.\n",
    "* 모델이라고 해서 어떤 확장자, 가중치라고 해서 어떤 확장자든 상관없다.\n",
    "### 2) 가중치 save 및 load\n",
    "* <code>model.state_dict()</code>를 통해서 현재 모델의 가중치를 받아온다.\n",
    "* <code>torch.save(model.state_dict, PATH)</code>로 저장\n",
    "* 그리고, 불러올 때는 해당 모델에 <b>가중치</b>를 불러오는 것이기 때문에 모델의 객체가 instaniate이 되어있어야 한다.\n",
    "* <code>torch.load()</code>를 통해서 가져오며, 가중치를 모델에 넣는 법은 <code>model.load_state_dict()</code>를 사용한다.\n",
    "* <code>model.load_state_dict(torch.load(PATH))</code>\n",
    "### 3) 모델 save 및 load\n",
    "* <code>torch.load(PATH)</code>를 통해서 모델을 가져온다.\n",
    "* 모델을 통째로 저장할 때는 picke 모듈을 사용하여 직렬화시킨다.\n",
    "### 4) Dropout, Batch Normalization 사용시 주의할 점\n",
    "* 추론을 할 때는 이를 사용하기 위해서 <code>model.eval()</code>을 호출하여 Evaluation Mode를 켜주어야 한다.\n",
    "* 켜주지 않으면, 일관성 없는 결과가 나온다."
   ]
  },
  {
   "cell_type": "markdown",
   "id": "05ea2ec2-e355-4c7d-a61d-19029dae8333",
   "metadata": {},
   "source": [
    "# Appendix (CheckPoint)\n",
    "## 개요\n",
    "* 추론 또는 학습의 재개를 위해 Checkpoint 모델을 저장하고 불러오는 것은 마지막으로 저장했던 부분을 선택하는데 도움을 줄 수 있다.\n",
    "* 체크포인트를 저장할 때는 단순히 모델의 <code>state_dict</code> 이상의 것을 저장해야 한다.\n",
    "* 모델 학습 중에 갱신되는 버퍼와 매개변수들을 포함하는 옵티마이저(Optimizer)의 state_dict를 함께 저장하는 것이 중요하다.\n",
    "    * optimizer가 저장할 게 있나?\n",
    "    * learning rate말고 뭘 저장하지? -> .grad같은 속성은 이미 각 Tensor가 갖고있는데\n",
    "    * learning rate도 아닌 듯하다. 내부 정보에 무언가 있다.\n",
    "* 이 외에도 중단 시점의 Epoch, 마지막으로 기록된 training loss, 외부 <code>torch.nn.Embedding</code> 계층 등, 알고리즘에 따라 저장하고 싶은 항목들이 있을 것이다."
   ]
  },
  {
   "cell_type": "code",
   "execution_count": 27,
   "id": "501a5dfa-e190-4942-a1c3-6c9c8792e30c",
   "metadata": {},
   "outputs": [],
   "source": [
    "from torch import nn"
   ]
  },
  {
   "cell_type": "code",
   "execution_count": 30,
   "id": "a5611da1-a425-4350-9165-6fa678af21ec",
   "metadata": {},
   "outputs": [],
   "source": [
    "class MyNet(nn.Module):\n",
    "    def __init__(self):\n",
    "        super().__init__()\n",
    "        self.conv1 = nn.Conv2d(3, 6, 5)\n",
    "        self.pool = nn.MaxPool2d(2, 2)\n",
    "        self.conv2 = nn.Conv2d(6, 16, 5)\n",
    "        self.fc1 = nn.Linear(16 * 5 * 5, 120)\n",
    "        self.fc2 = nn.Linear(120, 84)\n",
    "        self.fc3 = nn.Linear(84, 10)\n",
    "        self.relu = nn.ReLU()\n",
    "\n",
    "    def forward(self, x):\n",
    "        x = self.pool(self.relu(self.conv1(x)))\n",
    "        x = self.pool(self.relu(self.conv2(x)))\n",
    "        x = x.view(-1, 16 * 5 * 5)\n",
    "        x = self.relu(self.fc1(x))\n",
    "        x = self.relu(self.fc2(x))\n",
    "        x = self.fc3(x)\n",
    "        return x"
   ]
  },
  {
   "cell_type": "code",
   "execution_count": 31,
   "id": "d6ea06e7-0c0f-43af-9fd0-fa730f7fb2f0",
   "metadata": {},
   "outputs": [
    {
     "name": "stdout",
     "output_type": "stream",
     "text": [
      "----------------------------------------------------------------\n",
      "        Layer (type)               Output Shape         Param #\n",
      "================================================================\n",
      "            Conv2d-1            [-1, 6, 28, 28]             456\n",
      "              ReLU-2            [-1, 6, 28, 28]               0\n",
      "         MaxPool2d-3            [-1, 6, 14, 14]               0\n",
      "            Conv2d-4           [-1, 16, 10, 10]           2,416\n",
      "              ReLU-5           [-1, 16, 10, 10]               0\n",
      "         MaxPool2d-6             [-1, 16, 5, 5]               0\n",
      "            Linear-7                  [-1, 120]          48,120\n",
      "              ReLU-8                  [-1, 120]               0\n",
      "            Linear-9                   [-1, 84]          10,164\n",
      "             ReLU-10                   [-1, 84]               0\n",
      "           Linear-11                   [-1, 10]             850\n",
      "================================================================\n",
      "Total params: 62,006\n",
      "Trainable params: 62,006\n",
      "Non-trainable params: 0\n",
      "----------------------------------------------------------------\n",
      "Input size (MB): 0.01\n",
      "Forward/backward pass size (MB): 0.11\n",
      "Params size (MB): 0.24\n",
      "Estimated Total Size (MB): 0.36\n",
      "----------------------------------------------------------------\n"
     ]
    }
   ],
   "source": [
    "model = MyNet()\n",
    "summary(model, (3, 32, 32))"
   ]
  },
  {
   "cell_type": "code",
   "execution_count": 33,
   "id": "935498bb-9303-41bb-9127-409980bf7b60",
   "metadata": {},
   "outputs": [],
   "source": [
    "from torch import optim\n",
    "\n",
    "optimizer = optim.SGD(model.parameters(), lr=0.001, momentum=0.9)"
   ]
  },
  {
   "cell_type": "code",
   "execution_count": 34,
   "id": "80edc34e-702d-4cf6-8e8b-1767a4ee4f1f",
   "metadata": {},
   "outputs": [],
   "source": [
    "# 추가 정보\n",
    "EPOCH = 5\n",
    "PATH = 'model.pt'\n",
    "LOSS = 0.4\n",
    "\n",
    "torch.save({\n",
    "    'epoch': EPOCH,\n",
    "    'model_state_dict': model.state_dict(),\n",
    "    'optimizer_state_dict': optimizer.state_dict(),\n",
    "    'loss': LOSS\n",
    "}, PATH)"
   ]
  },
  {
   "cell_type": "code",
   "execution_count": null,
   "id": "b8dff33c-763c-49ef-b547-cbe9fbfca5fc",
   "metadata": {},
   "outputs": [],
   "source": [
    "# 체크 포인트 불러오기\n",
    "\n",
    "model2 = MyNet()\n",
    "oprimizer = optim.SGD(model.parameters(), lr=0.001, momentum=0.9)\n",
    "\n",
    "checkpoint = torch.load(PATH)\n",
    "model.load_state_dict(checkpoint['model_state_dict'])\n",
    "optimizer.load_state_dict(checkpoint['optimizer_state_dict'])\n",
    "epoch = checkpoint['epoch']\n",
    "loss = checkpoint['loss']"
   ]
  },
  {
   "cell_type": "markdown",
   "id": "a4903cd8-69e1-403d-a266-1f9a0e486145",
   "metadata": {},
   "source": [
    "## Summary\n",
    "### checkpoint\n",
    "* model의 state_dict, optimizer의 state_dict를 하나의 Dictionary로 묶어서 Checkpoint로 저장할 수 있다.\n",
    "* 이 때 optimizer는 모델과 같이 내부의 가중치 형태와 같은 상태를 저장하며 load할 때도 모델과 똑같이 가중치를 가져오는 것처럼 state_dict를 가져온다.\n",
    "* epoch나 loss와 같은 정보도 담을 수 있다.\n",
    "### <code>model.train()</code>\n",
    "* 모델 학습 모드로 설정\n",
    "* 학습에 필요한 환경으로 설정\n",
    "### <code>model.eval()</code>\n",
    "* 모델 평가 모드로 설정\n",
    "* 그래디언트 계산 X"
   ]
  }
 ],
 "metadata": {
  "kernelspec": {
   "display_name": "Python 3 (ipykernel)",
   "language": "python",
   "name": "python3"
  },
  "language_info": {
   "codemirror_mode": {
    "name": "ipython",
    "version": 3
   },
   "file_extension": ".py",
   "mimetype": "text/x-python",
   "name": "python",
   "nbconvert_exporter": "python",
   "pygments_lexer": "ipython3",
   "version": "3.10.9"
  }
 },
 "nbformat": 4,
 "nbformat_minor": 5
}
