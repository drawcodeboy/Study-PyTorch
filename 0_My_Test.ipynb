{
 "cells": [
  {
   "cell_type": "markdown",
   "id": "8a9bcbd6",
   "metadata": {},
   "source": [
    "# My Test\n",
    "* 공부를 해보면서 알고 싶거나 궁금한 내용들을 해당 ipynb를 통해 알아보고자 한다."
   ]
  },
  {
   "cell_type": "markdown",
   "id": "f6d30c06",
   "metadata": {},
   "source": [
    "# 신경망 다시 혼자 짜보기"
   ]
  },
  {
   "cell_type": "code",
   "execution_count": 2,
   "id": "b31cc7c3",
   "metadata": {},
   "outputs": [],
   "source": [
    "import torch\n",
    "from torch import nn"
   ]
  },
  {
   "cell_type": "code",
   "execution_count": 3,
   "id": "2ecb5ef7",
   "metadata": {},
   "outputs": [],
   "source": [
    "# 여기서 궁금한 점\n",
    "# Constructor에서는 구성 요소를 가져오고, Forward에서 연산의 순서를 지정하는 것이 맞는지\n",
    "# 왜 print(model)을 하면 Constructor가 연산의 순서를 지정하는 것처럼 표현되는지?\n",
    "\n",
    "class MyNN(nn.Module):\n",
    "    def __init__(self):\n",
    "        super().__init__()\n",
    "        # super().__init__()\n",
    "        \n",
    "        self.linear_relu_stack = nn.Sequential(\n",
    "            nn.Linear(28*28, 512),\n",
    "            nn.ReLU(),\n",
    "            nn.Linear(512, 512),\n",
    "            nn.ReLU(),\n",
    "            nn.Linear(512, 10),\n",
    "        )\n",
    "        self.flatten = nn.Flatten()\n",
    "        \n",
    "    def forward(self, x):\n",
    "        x = self.flatten(x)\n",
    "        x = self.linear_relu_stack(x)\n",
    "        return x"
   ]
  },
  {
   "cell_type": "code",
   "execution_count": 4,
   "id": "6b9790b3",
   "metadata": {},
   "outputs": [
    {
     "name": "stdout",
     "output_type": "stream",
     "text": [
      "MyNN(\n",
      "  (linear_relu_stack): Sequential(\n",
      "    (0): Linear(in_features=784, out_features=512, bias=True)\n",
      "    (1): ReLU()\n",
      "    (2): Linear(in_features=512, out_features=512, bias=True)\n",
      "    (3): ReLU()\n",
      "    (4): Linear(in_features=512, out_features=10, bias=True)\n",
      "  )\n",
      "  (flatten): Flatten(start_dim=1, end_dim=-1)\n",
      ")\n"
     ]
    }
   ],
   "source": [
    "model = MyNN()\n",
    "print(model)"
   ]
  },
  {
   "cell_type": "code",
   "execution_count": 5,
   "id": "9100a042",
   "metadata": {},
   "outputs": [
    {
     "name": "stdout",
     "output_type": "stream",
     "text": [
      "Requirement already satisfied: torchsummary in c:\\users\\user\\anaconda3\\lib\\site-packages (1.5.1)\n"
     ]
    },
    {
     "name": "stderr",
     "output_type": "stream",
     "text": [
      "WARNING: Ignoring invalid distribution -cipy (c:\\users\\user\\anaconda3\\lib\\site-packages)\n",
      "WARNING: Ignoring invalid distribution -cipy (c:\\users\\user\\anaconda3\\lib\\site-packages)\n",
      "WARNING: Ignoring invalid distribution -cipy (c:\\users\\user\\anaconda3\\lib\\site-packages)\n",
      "WARNING: Ignoring invalid distribution -cipy (c:\\users\\user\\anaconda3\\lib\\site-packages)\n",
      "WARNING: Ignoring invalid distribution -cipy (c:\\users\\user\\anaconda3\\lib\\site-packages)\n",
      "WARNING: Ignoring invalid distribution -cipy (c:\\users\\user\\anaconda3\\lib\\site-packages)\n"
     ]
    }
   ],
   "source": [
    "!pip install torchsummary"
   ]
  },
  {
   "cell_type": "code",
   "execution_count": 6,
   "id": "bffbebdb",
   "metadata": {},
   "outputs": [
    {
     "name": "stdout",
     "output_type": "stream",
     "text": [
      "----------------------------------------------------------------\n",
      "        Layer (type)               Output Shape         Param #\n",
      "================================================================\n",
      "           Flatten-1                  [-1, 784]               0\n",
      "            Linear-2                  [-1, 512]         401,920\n",
      "              ReLU-3                  [-1, 512]               0\n",
      "            Linear-4                  [-1, 512]         262,656\n",
      "              ReLU-5                  [-1, 512]               0\n",
      "            Linear-6                   [-1, 10]           5,130\n",
      "================================================================\n",
      "Total params: 669,706\n",
      "Trainable params: 669,706\n",
      "Non-trainable params: 0\n",
      "----------------------------------------------------------------\n",
      "Input size (MB): 0.00\n",
      "Forward/backward pass size (MB): 0.02\n",
      "Params size (MB): 2.55\n",
      "Estimated Total Size (MB): 2.58\n",
      "----------------------------------------------------------------\n"
     ]
    }
   ],
   "source": [
    "from torchsummary import summary\n",
    "\n",
    "summary(model, input_size=(1, 28, 28))"
   ]
  },
  {
   "cell_type": "markdown",
   "id": "f10fd16b",
   "metadata": {},
   "source": [
    "# Class Inheritance\n",
    "* Java에서 처음으로 Class, Inheritance를 배우면서 Java와는 다르게 해석되는 부분들을 코드를 통해 구현해보고자 함.'\n",
    "* Java와 다른 점: 상속을 주면, <code>super().\\_\\_init\\_\\_()</code>을 통해 따로 가져와 주어야 한다.\n",
    "* 정리\n",
    "    * Constructor를 Child Class에서 명시해주지 않으면, 자동으로 Parent Class의 Constructor가 호출된다.\n",
    "    * 다만, 새로운 초기화(멤버 필드를 추가하는 경우)가 필요할 때는 <code>super().\\_\\_init\\_\\_()</code>를 자식 클래스에서 다시 한 번 만들어주어야 한다. \n",
    "    * 필드가 아닌 메소드는 자동으로 상속된다."
   ]
  },
  {
   "cell_type": "code",
   "execution_count": 7,
   "id": "413d09fe",
   "metadata": {},
   "outputs": [],
   "source": [
    "class Person:\n",
    "    def __init__(self, name, age):\n",
    "        self.name = name\n",
    "        self.age = age\n",
    "        \n",
    "    def print_name(self):\n",
    "        print(f'this object\\'s name is {self.name}')\n",
    "        \n",
    "    def print_age(self):\n",
    "        print(f'this object\\'s age is {self.age}')\n",
    "        \n",
    "    def print_hello(self):\n",
    "        print('Say HELLO!')\n",
    "        \n",
    "class Student(Person):\n",
    "    def __init__(self, name, age, grade):\n",
    "        # super().__init__(name, age)\n",
    "        self.grade = grade\n",
    "        \n",
    "    def print_grade(self):\n",
    "        print(f'this object\\'s grade is {self.grade}')"
   ]
  },
  {
   "cell_type": "code",
   "execution_count": 8,
   "id": "38ae65ea",
   "metadata": {},
   "outputs": [
    {
     "name": "stdout",
     "output_type": "stream",
     "text": [
      "Say HELLO!\n"
     ]
    }
   ],
   "source": [
    "s1 = Student('James', 12, 3)\n",
    "s1.print_hello()"
   ]
  },
  {
   "cell_type": "code",
   "execution_count": 9,
   "id": "fce5c0c2",
   "metadata": {},
   "outputs": [
    {
     "name": "stdout",
     "output_type": "stream",
     "text": [
      "Say HELLO!\n"
     ]
    }
   ],
   "source": [
    "s1.print_hello()"
   ]
  },
  {
   "cell_type": "code",
   "execution_count": 12,
   "id": "d6fa4414",
   "metadata": {},
   "outputs": [],
   "source": [
    "# Sub Class에서 Constructor를 call하지 않는다.\n",
    "# 명시적으로 해두지 않는 경우, 자동으로 부모 클래스의 생성자가 호출된다.\n",
    "\n",
    "class Stock:\n",
    "    def __init__(self, name, shares, price):\n",
    "        self.name = name\n",
    "        self.shares = shares\n",
    "        self.price = price\n",
    "    \n",
    "    def cost(self):\n",
    "        return self.shares * self.shares\n",
    "    \n",
    "    def sell(self, nshares):\n",
    "        self.shares -= nshares\n",
    "        \n",
    "class MyStock(Stock):\n",
    "    def panic(self):\n",
    "        self.sell(self.shares)"
   ]
  },
  {
   "cell_type": "code",
   "execution_count": 13,
   "id": "29ea2ecd",
   "metadata": {},
   "outputs": [],
   "source": [
    "# 자동으로 부모 클래스의 Constructor가 호출되기 때문에 부모 클래스의\n",
    "# Constructor를 따라서 Object를 생성한다.\n",
    "\n",
    "s = MyStock('GOOG', 100, 490.1)"
   ]
  },
  {
   "cell_type": "code",
   "execution_count": 14,
   "id": "8c60ab2d",
   "metadata": {},
   "outputs": [
    {
     "data": {
      "text/plain": [
       "75"
      ]
     },
     "execution_count": 14,
     "metadata": {},
     "output_type": "execute_result"
    }
   ],
   "source": [
    "s.sell(25)\n",
    "s.shares"
   ]
  },
  {
   "cell_type": "code",
   "execution_count": 34,
   "id": "f4a5b4a5",
   "metadata": {},
   "outputs": [],
   "source": [
    "class NeuralNetwork(nn.Module):\n",
    "    def __init__(self):\n",
    "        super().__init__()\n",
    "        self.flatten = nn.Flatten()\n",
    "        self.linear1 = nn.Linear(28*28, 512)\n",
    "        self.relu1 = nn.ReLU()\n",
    "        self.linear2 = nn.Linear(512, 10)\n",
    "        self.relu2 = nn.ReLU()\n",
    "    \n",
    "    def forward(self, x):\n",
    "        x = self.flatten(x)\n",
    "        x = self.linear1(x)\n",
    "        x = self.relu1(x)\n",
    "        x = self.linear1(x)\n",
    "        output = self.relu2(x)\n",
    "        return output"
   ]
  },
  {
   "cell_type": "code",
   "execution_count": 35,
   "id": "5d0282ff",
   "metadata": {},
   "outputs": [],
   "source": [
    "model = NeuralNetwork()"
   ]
  },
  {
   "cell_type": "code",
   "execution_count": 39,
   "id": "e5a4fba1",
   "metadata": {},
   "outputs": [
    {
     "name": "stdout",
     "output_type": "stream",
     "text": [
      "Parameter containing:\n",
      "tensor([[ 0.0126, -0.0075, -0.0218,  ..., -0.0384, -0.0030, -0.0206],\n",
      "        [ 0.0050, -0.0030, -0.0187,  ...,  0.0276, -0.0006,  0.0396],\n",
      "        [ 0.0113, -0.0269,  0.0171,  ..., -0.0134,  0.0293,  0.0297],\n",
      "        ...,\n",
      "        [ 0.0342, -0.0400,  0.0430,  ...,  0.0379, -0.0093,  0.0102],\n",
      "        [-0.0375, -0.0060,  0.0371,  ..., -0.0378, -0.0100,  0.0290],\n",
      "        [ 0.0082, -0.0330, -0.0173,  ...,  0.0426,  0.0233,  0.0170]],\n",
      "       requires_grad=True)\n"
     ]
    }
   ],
   "source": [
    "print(model.linear2.weight)"
   ]
  },
  {
   "cell_type": "code",
   "execution_count": 38,
   "id": "ac295d76",
   "metadata": {},
   "outputs": [
    {
     "name": "stdout",
     "output_type": "stream",
     "text": [
      "tensor([[ 0.0126, -0.0075, -0.0218,  ..., -0.0384, -0.0030, -0.0206],\n",
      "        [ 0.0050, -0.0030, -0.0187,  ...,  0.0276, -0.0006,  0.0396],\n",
      "        [ 0.0113, -0.0269,  0.0171,  ..., -0.0134,  0.0293,  0.0297],\n",
      "        ...,\n",
      "        [ 0.0342, -0.0400,  0.0430,  ...,  0.0379, -0.0093,  0.0102],\n",
      "        [-0.0375, -0.0060,  0.0371,  ..., -0.0378, -0.0100,  0.0290],\n",
      "        [ 0.0082, -0.0330, -0.0173,  ...,  0.0426,  0.0233,  0.0170]],\n",
      "       requires_grad=True)\n"
     ]
    }
   ],
   "source": [
    "print(model.linear2.weight.data.requires_grad_(True))"
   ]
  }
 ],
 "metadata": {
  "kernelspec": {
   "display_name": "Python 3 (ipykernel)",
   "language": "python",
   "name": "python3"
  },
  "language_info": {
   "codemirror_mode": {
    "name": "ipython",
    "version": 3
   },
   "file_extension": ".py",
   "mimetype": "text/x-python",
   "name": "python",
   "nbconvert_exporter": "python",
   "pygments_lexer": "ipython3",
   "version": "3.10.9"
  }
 },
 "nbformat": 4,
 "nbformat_minor": 5
}
