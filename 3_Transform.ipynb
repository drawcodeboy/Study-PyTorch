{
 "cells": [
  {
   "cell_type": "markdown",
   "id": "683e3d7d",
   "metadata": {},
   "source": [
    "# Transform\n",
    "* 데이터가 항상 머신러닝 알고리즘 학습에 필요한 최종 처리가 된 형태로 제공되지 않는다.\n",
    "* transform을 통해 데이터를 조작하고 학습에 적합하게 만든다.\n",
    "* 모든 TorchVision 데이터셋들은 변형 로직을 갖는, 호출 가능한 객체(callable)를 받는 매개변수 2개 (<b>특징(feature)을 변경</b>하기 위한 <code>transform</code>과 <b>label을 변형</b>하기 위한 <code>target_transform</code>)을 제공한다.\n",
    "* FashionMNIST 특징은 PIL Image 형식이며, label은 integer 타입니다.\n",
    "* 학습을 하려면 normalize된 tensor type의 feature와 one-hot encoding이 된 tensor type의 label이 필요하다고 가정하자.\n",
    "* 이러한 transformation을 위해 <code>ToTensor()</code>와 <code>Lambda</code>가 필요하다.\n",
    "## ToTensor()\n",
    "* <code>ToTensor</code>는 PIL Image나 NumPy <code>ndarray</code>를 <code>FloatTensor</code>로 변환하고, 범용적으로 사용되는 모든 Type들은 전부 Normalization(MinMaxScaling) 해준다.\n",
    "## Lambda()\n",
    "* 사용자 정의 람다 함수를 적용한다. 아래 코드에서는 One-Hot Encoding을 하기 위해 크기가 10인 Zero Tensor를 만들고, <code>scatter_(scatter의 inplace)</code>를 호출하여 주어진 정답 y에 해당하는 index에 <code>value=1</code>을 할당한다."
   ]
  },
  {
   "cell_type": "code",
   "execution_count": 2,
   "id": "fa48634a",
   "metadata": {},
   "outputs": [],
   "source": [
    "import torch\n",
    "from torchvision import datasets\n",
    "from torchvision.transforms import ToTensor, Lambda\n",
    "\n",
    "ds = datasets.FashionMNIST(\n",
    "    root='data',\n",
    "    train=True,\n",
    "    download=True,\n",
    "    transform=ToTensor(),\n",
    "    target_transform=Lambda(lambda y: torch.zeros(10, dtype=torch.float32).scatter_(0, torch.tensor(y), value=1))\n",
    ")"
   ]
  },
  {
   "cell_type": "code",
   "execution_count": null,
   "id": "e23daf23",
   "metadata": {},
   "outputs": [],
   "source": []
  }
 ],
 "metadata": {
  "kernelspec": {
   "display_name": "Python 3 (ipykernel)",
   "language": "python",
   "name": "python3"
  },
  "language_info": {
   "codemirror_mode": {
    "name": "ipython",
    "version": 3
   },
   "file_extension": ".py",
   "mimetype": "text/x-python",
   "name": "python",
   "nbconvert_exporter": "python",
   "pygments_lexer": "ipython3",
   "version": "3.10.9"
  }
 },
 "nbformat": 4,
 "nbformat_minor": 5
}
